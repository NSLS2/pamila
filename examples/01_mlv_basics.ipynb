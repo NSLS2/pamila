{
 "cells": [
  {
   "cell_type": "code",
   "execution_count": null,
   "metadata": {},
   "outputs": [],
   "source": [
    "from pathlib import Path"
   ]
  },
  {
   "cell_type": "code",
   "execution_count": null,
   "metadata": {},
   "outputs": [],
   "source": [
    "# You can ignore about the `pydantic` deprecation warning (coming from `tiled`)\n",
    "import pamila as pml\n",
    "from pamila import Q_"
   ]
  },
  {
   "cell_type": "code",
   "execution_count": null,
   "metadata": {},
   "outputs": [],
   "source": [
    "# Activate the simulator mode (i.e., neither LIVE nor DT [Digital Twin])\n",
    "pml.go_offline()"
   ]
  },
  {
   "cell_type": "code",
   "execution_count": null,
   "metadata": {},
   "outputs": [],
   "source": [
    "facility_name = pml.machine.get_facility_name()\n",
    "FACILITY_CONFIG_FOLDER = Path(\"demo_generated\") / facility_name"
   ]
  },
  {
   "cell_type": "code",
   "execution_count": null,
   "metadata": {},
   "outputs": [],
   "source": [
    "machine_name = \"SR\"\n",
    "SR = pml.load_machine(machine_name, dirpath=FACILITY_CONFIG_FOLDER)\n",
    "SR"
   ]
  },
  {
   "cell_type": "code",
   "execution_count": null,
   "metadata": {},
   "outputs": [],
   "source": [
    "mlvs = SR.get_all_mlvs()\n",
    "mlvs"
   ]
  },
  {
   "cell_type": "code",
   "execution_count": null,
   "metadata": {},
   "outputs": [],
   "source": [
    "for mlv in mlvs.values():\n",
    "    mlv.wait_for_connection()"
   ]
  },
  {
   "cell_type": "code",
   "execution_count": null,
   "metadata": {},
   "outputs": [],
   "source": [
    "# \"C30_C1\" refers to the first orbit corrector in Cell 30 at NSLS-II.\n",
    "mlvs[\"C30_C1_x_I_RB\"].get(), mlvs[\"C30_C1_x_I_SP\"].get()"
   ]
  },
  {
   "cell_type": "code",
   "execution_count": null,
   "metadata": {},
   "outputs": [],
   "source": [
    "mlvs[\"C30_C1_x_angle_SP\"].get(), mlvs[\"C30_C1_x_angle_RB\"].get()"
   ]
  },
  {
   "cell_type": "markdown",
   "metadata": {},
   "source": [
    "Note that the units shown above are \"radian\", not \"mrad\", which was specified in \"elements.yaml\" for the \"x_angle\" repr. for the MLV \"C30_C1_x_angle_SP\".\n",
    "\n",
    "The units of the angle in `pyAT` is \"radian\". The PAMILA signal attaches \"radian\" to the float value obtained from the simulator.\n",
    "\n",
    "Normally, the repr. conversion functions that involve the \"x_angle\" repr. will convert the object to \"mrad\" before passing as an input argument, or, if the repr. is an output, then the function attaches \"mrad\" to the output float value.\n",
    "\n",
    "In this particular case, however, there was no repr. conversion (i.e., identity conversion from \"x_angle\" to \"x_angle\"). Since no conversion process was invoked, the originally attached unit of \"radian\" was left as is."
   ]
  },
  {
   "cell_type": "code",
   "execution_count": null,
   "metadata": {},
   "outputs": [],
   "source": [
    "mlv = mlvs[\"C30_C1_x_I_SP\"]\n",
    "\n",
    "pdev = mlv.get_device()\n",
    "\n",
    "pdev._machine_name, pdev._mode"
   ]
  },
  {
   "cell_type": "code",
   "execution_count": null,
   "metadata": {},
   "outputs": [],
   "source": [
    "# Switch to DT mode.\n",
    "# Notice that MLV now points to the pamila device (pdev) for DT, not SIM.\n",
    "pml.set_online_mode(pml.MachineMode.DIGITAL_TWIN)\n",
    "pml.go_online()\n",
    "pdev = mlv.get_device()\n",
    "\n",
    "pdev._machine_name, pdev._mode"
   ]
  },
  {
   "cell_type": "code",
   "execution_count": null,
   "metadata": {},
   "outputs": [],
   "source": [
    "# Go back to the simulator mode\n",
    "pml.go_offline()"
   ]
  },
  {
   "cell_type": "code",
   "execution_count": null,
   "metadata": {},
   "outputs": [],
   "source": [
    "mlv.name"
   ]
  },
  {
   "cell_type": "code",
   "execution_count": null,
   "metadata": {},
   "outputs": [],
   "source": [
    "mlv.get()"
   ]
  },
  {
   "cell_type": "code",
   "execution_count": null,
   "metadata": {},
   "outputs": [],
   "source": [
    "mlv.read()"
   ]
  },
  {
   "cell_type": "code",
   "execution_count": null,
   "metadata": {},
   "outputs": [],
   "source": [
    "# Should result in a TypeError\n",
    "try:\n",
    "    mlv.put(0.1)\n",
    "except Exception as e:\n",
    "    assert isinstance(\n",
    "        e, TypeError\n",
    "    ), f\"Expected TypeError, but got {type(e).__name__}\"\n",
    "    assert str(e) == \"Wrong type: <class 'float'>\"\n",
    "    print(\"Failed as expected!\")\n",
    "    print(\"Must pass a pint.Q_ object, instead of a float object\")\n",
    "except:\n",
    "    raise"
   ]
  },
  {
   "cell_type": "code",
   "execution_count": null,
   "metadata": {},
   "outputs": [],
   "source": [
    "# You must pass a pint Quantity object `Q_`.\n",
    "mlv.put(Q_(\"0.1 A\"))"
   ]
  },
  {
   "cell_type": "code",
   "execution_count": null,
   "metadata": {},
   "outputs": [],
   "source": [
    "# Confirm that the value for the MLV has been changed\n",
    "mlv.get()"
   ]
  },
  {
   "cell_type": "code",
   "execution_count": null,
   "metadata": {},
   "outputs": [],
   "source": [
    "# Note that the setpoint value in \"x_angle\" repr. is also no longer zero radian.\n",
    "mlvs[\"C30_C1_x_angle_SP\"].get()"
   ]
  },
  {
   "cell_type": "code",
   "execution_count": null,
   "metadata": {},
   "outputs": [],
   "source": [
    "# Check out other MLVs\n",
    "dcct_mlv = SR.get_mlv(\"Beam_Current_I_RB\")\n",
    "nux_mlv = SR.get_mlv(\"BxB_Tune_nux_RB\")\n",
    "nuy_mlv = SR.get_mlv(\"BxB_Tune_nuy_RB\")"
   ]
  },
  {
   "cell_type": "code",
   "execution_count": null,
   "metadata": {},
   "outputs": [],
   "source": [
    "dcct_mlv.get()"
   ]
  },
  {
   "cell_type": "code",
   "execution_count": null,
   "metadata": {},
   "outputs": [],
   "source": [
    "nux_mlv.get()"
   ]
  },
  {
   "cell_type": "code",
   "execution_count": null,
   "metadata": {},
   "outputs": [],
   "source": [
    "nuy_mlv.get()"
   ]
  }
 ],
 "metadata": {},
 "nbformat": 4,
 "nbformat_minor": 2
}

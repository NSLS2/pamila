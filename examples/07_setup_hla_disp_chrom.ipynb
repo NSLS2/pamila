{
 "cells": [
  {
   "cell_type": "code",
   "execution_count": null,
   "metadata": {},
   "outputs": [],
   "source": [
    "from pathlib import Path"
   ]
  },
  {
   "cell_type": "code",
   "execution_count": null,
   "metadata": {},
   "outputs": [],
   "source": [
    "# You can ignore about the `pydantic` deprecation warning (coming from `tiled`)\n",
    "import pamila as pml\n",
    "from pamila import Q_"
   ]
  },
  {
   "cell_type": "code",
   "execution_count": null,
   "metadata": {},
   "outputs": [],
   "source": [
    "# Activate the simulator mode (i.e., neither LIVE nor DT [Digital Twin])\n",
    "pml.go_offline()"
   ]
  },
  {
   "cell_type": "code",
   "execution_count": null,
   "metadata": {},
   "outputs": [],
   "source": [
    "facility_name = pml.machine.get_facility_name()\n",
    "FACILITY_CONFIG_FOLDER = Path(\"demo_generated\") / facility_name"
   ]
  },
  {
   "cell_type": "code",
   "execution_count": null,
   "metadata": {},
   "outputs": [],
   "source": [
    "machine_name = \"SR\"\n",
    "SR = pml.load_machine(machine_name, dirpath=FACILITY_CONFIG_FOLDER)"
   ]
  },
  {
   "cell_type": "code",
   "execution_count": null,
   "metadata": {},
   "outputs": [],
   "source": [
    "pml.load_hla_defaults(FACILITY_CONFIG_FOLDER / \"hla_defaults.yaml\")"
   ]
  },
  {
   "cell_type": "code",
   "execution_count": null,
   "metadata": {},
   "outputs": [],
   "source": [
    "# Print the current default parameters for all HLAs, which should only have\n",
    "# the params specified for the `orbit.slow_acq` HLA.\n",
    "#\n",
    "# In this notebook, we will set up the params associated with the `disp_chrom` HLA.\n",
    "pml.hla.get_hla_defaults()"
   ]
  },
  {
   "cell_type": "code",
   "execution_count": null,
   "metadata": {},
   "outputs": [],
   "source": [
    "# Print all available flow names for the `disp_chrom` high-level application (HLA)\n",
    "pml.hla.disp_chrom.get_flow_names()"
   ]
  },
  {
   "cell_type": "code",
   "execution_count": null,
   "metadata": {},
   "outputs": [],
   "source": [
    "# Select the \"standalone\" flow.\n",
    "#\n",
    "# But, as was the case with the `orbit.slow_acq` HLA, this SHOULD result in an\n",
    "# error message:\n",
    "#  TypeError: Machine default is requested, but it does not appear to be set up\n",
    "try:\n",
    "    standalone = pml.hla.disp_chrom.get_flow(\"standalone\", SR)\n",
    "except Exception as e:\n",
    "    assert isinstance(\n",
    "        e, TypeError\n",
    "    ), f\"Expected TypeError, but got {type(e).__name__}\"\n",
    "    assert (\n",
    "        str(e)\n",
    "        == \"Machine default is requested, but it does not appear to be set up\"\n",
    "    )\n",
    "    print(\"Failed as expected!\")\n",
    "except:\n",
    "    raise"
   ]
  },
  {
   "cell_type": "code",
   "execution_count": null,
   "metadata": {},
   "outputs": [],
   "source": [
    "# As before, we temporarily avoid this error by:\n",
    "pml.hla.allow_machine_default_placeholder()\n",
    "\n",
    "standalone = pml.hla.disp_chrom.get_flow(\"standalone\", SR)"
   ]
  },
  {
   "cell_type": "code",
   "execution_count": null,
   "metadata": {},
   "outputs": [],
   "source": [
    "# Print all the stage names for the flow\n",
    "standalone.get_stage_names()"
   ]
  },
  {
   "cell_type": "code",
   "execution_count": null,
   "metadata": {},
   "outputs": [],
   "source": [
    "# Get the params for the \"acquire\" stage\n",
    "params = standalone.get_params(\"acquire\")\n",
    "params"
   ]
  },
  {
   "cell_type": "code",
   "execution_count": null,
   "metadata": {},
   "outputs": [],
   "source": [
    "# Note that \"rf_freq_mlv_SP\", \"orbit_meas\", and \"tune_meas\" are `MachineDefault`\n",
    "# objects (i.e., placeholders).\n",
    "# This HLA will NOT work if these parameters are not specified, which is the\n",
    "# reason for the earlier error message \"TypeError: Machine default is requested...\"\n",
    "list(params)"
   ]
  },
  {
   "cell_type": "code",
   "execution_count": null,
   "metadata": {},
   "outputs": [],
   "source": [
    "# Set MLV parameters\n",
    "params.rf_freq_mlv_SP = SR.get_mlv(\"RF_Freq_freq_SP\")\n",
    "params.rf_freq_mlv_RB = SR.get_mlv(\"RF_Freq_freq_RB\")"
   ]
  },
  {
   "cell_type": "code",
   "execution_count": null,
   "metadata": {},
   "outputs": [],
   "source": [
    "# You can also change the default values for other params, if you want.\n",
    "#\n",
    "# Note bluesky/tiled for HLAs have not been implemented yet.\n",
    "params.n_freq_pts = 5\n",
    "params.max_delta_freq = Q_(\"200 Hz\")\n",
    "params.min_delta_freq = Q_(\"-200 Hz\")\n",
    "params.extra_settle_time = Q_(\"3 s\")"
   ]
  },
  {
   "cell_type": "code",
   "execution_count": null,
   "metadata": {},
   "outputs": [],
   "source": [
    "# Set \"orbit_meas\" `HlaFlow` object\n",
    "orbit_flow = pml.hla.orbit.slow_acq.get_flow(\"library\", SR)\n",
    "orbit_flow_params = orbit_flow.get_params(\"acquire\")\n",
    "list(orbit_flow_params)"
   ]
  },
  {
   "cell_type": "code",
   "execution_count": null,
   "metadata": {},
   "outputs": [],
   "source": [
    "# As the default parameters for the `orbit.slow_acq`'s HlaFlow object have\n",
    "# been specified and saved in the previous notebook, the default HlaFlow\n",
    "# object can be used \"as is\".\n",
    "# But, if any parameter needs to be changed for the `disp_chrom` HLA, you can\n",
    "# change them here.\n",
    "orbit_flow_params.n_meas = 8"
   ]
  },
  {
   "cell_type": "code",
   "execution_count": null,
   "metadata": {},
   "outputs": [],
   "source": [
    "# For the `tunes.via_pvs` HlaFlow object, no default parameters have been yet\n",
    "# specified, as \"tune_mlvt\" can be seen set as `MachineDefault`, which you must\n",
    "# specify to be able to run the `tunes.via_pvs` HlaFlow.\n",
    "tune_flow = pml.hla.tunes.via_pvs.get_flow(\"library\", SR)\n",
    "tune_flow_params = tune_flow.get_params(\"acquire\")\n",
    "list(tune_flow_params)"
   ]
  },
  {
   "cell_type": "code",
   "execution_count": null,
   "metadata": {},
   "outputs": [],
   "source": [
    "tune_flow_params.tune_mlvt = SR.get_mlvt(\"Tunes\")"
   ]
  },
  {
   "cell_type": "code",
   "execution_count": null,
   "metadata": {},
   "outputs": [],
   "source": [
    "# Also adjust other params for the `acquire` stage of `tunes.via_pvs` HlaFlow\n",
    "tune_flow_params.n_meas = 3\n",
    "tune_flow_params.wait_btw_meas = Q_(\"1 s\")"
   ]
  },
  {
   "cell_type": "code",
   "execution_count": null,
   "metadata": {},
   "outputs": [],
   "source": [
    "# Update the default params for the `acquire` stage of `tunes.via_pvs` in memory.\n",
    "stage = tune_flow.get_stage(\"acquire\")\n",
    "stage.update_machine_default_params(tune_flow_params)"
   ]
  },
  {
   "cell_type": "code",
   "execution_count": null,
   "metadata": {},
   "outputs": [],
   "source": [
    "pml.hla.get_hla_defaults()"
   ]
  },
  {
   "cell_type": "code",
   "execution_count": null,
   "metadata": {},
   "outputs": [],
   "source": [
    "# Now save the current params for orbit/tune flows in memory as the default for\n",
    "# the `acquire` stage of the `disp_chrom` HLA\n",
    "params.orbit_meas = orbit_flow\n",
    "params.tune_meas = tune_flow\n",
    "\n",
    "stage = standalone.get_stage(\"acquire\")\n",
    "stage.update_machine_default_params(params)"
   ]
  },
  {
   "cell_type": "code",
   "execution_count": null,
   "metadata": {},
   "outputs": [],
   "source": [
    "pml.hla.get_hla_defaults()"
   ]
  },
  {
   "cell_type": "code",
   "execution_count": null,
   "metadata": {},
   "outputs": [],
   "source": [
    "# For the `disp_chrom` HLA standalone flow to be run, there is one more param\n",
    "# in the `postprocess` stage that needs to be specified.\n",
    "params = standalone.get_params(\"postprocess\")\n",
    "list(params)"
   ]
  },
  {
   "cell_type": "code",
   "execution_count": null,
   "metadata": {},
   "outputs": [],
   "source": [
    "# We set the design value of momentum compaction as the default\n",
    "from pamila.utils import DesignLatticeProperty\n",
    "\n",
    "params.momentum_compaction = DesignLatticeProperty()\n",
    "# If you want to manually specify a float value here, you can do so instead.\n",
    "\n",
    "stage = standalone.get_stage(\"postprocess\")\n",
    "stage.update_machine_default_params(params)"
   ]
  },
  {
   "cell_type": "code",
   "execution_count": null,
   "metadata": {},
   "outputs": [],
   "source": [
    "pml.hla.get_hla_defaults()"
   ]
  },
  {
   "cell_type": "code",
   "execution_count": null,
   "metadata": {},
   "outputs": [],
   "source": [
    "# If you want the default param changes above to be persistent, save the changes\n",
    "# in the params object into the YAML file that specifies the default HLA parameters.\n",
    "hla_defaults_filepath = FACILITY_CONFIG_FOLDER / \"hla_defaults.yaml\"\n",
    "\n",
    "pml.hla.save_hla_defaults_to_file(hla_defaults_filepath)"
   ]
  },
  {
   "cell_type": "code",
   "execution_count": null,
   "metadata": {},
   "outputs": [],
   "source": [
    "# You can now recover the default params from the saved YAML file.\n",
    "pml.load_hla_defaults(hla_defaults_filepath)\n",
    "\n",
    "pml.hla.get_hla_defaults()"
   ]
  },
  {
   "cell_type": "markdown",
   "metadata": {},
   "source": [
    "This concludes the initial setup for the default params for the `disp_chrom` HLA. "
   ]
  },
  {
   "cell_type": "code",
   "execution_count": null,
   "metadata": {},
   "outputs": [],
   "source": [
    "# Before we move onto actually running the standalone HLA flow in this notebook,\n",
    "# you need to undo the special setup we applied, as we did in \"06_hla_orbit.ipynb\".\n",
    "# If you are starting a fresh run, this step is not necessary.\n",
    "pml.hla.disallow_machine_default_placeholder()"
   ]
  }
 ],
 "metadata": {},
 "nbformat": 4,
 "nbformat_minor": 2
}

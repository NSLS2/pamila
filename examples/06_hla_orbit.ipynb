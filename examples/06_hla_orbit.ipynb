{
 "cells": [
  {
   "cell_type": "code",
   "execution_count": null,
   "metadata": {},
   "outputs": [],
   "source": [
    "from pathlib import Path"
   ]
  },
  {
   "cell_type": "code",
   "execution_count": null,
   "metadata": {},
   "outputs": [],
   "source": [
    "# You can ignore about the `pydantic` deprecation warning (coming from `tiled`)\n",
    "import pamila as pml\n",
    "from pamila import Q_"
   ]
  },
  {
   "cell_type": "code",
   "execution_count": null,
   "metadata": {},
   "outputs": [],
   "source": [
    "# Activate the simulator mode (i.e., neither LIVE nor DT [Digital Twin])\n",
    "pml.go_offline()"
   ]
  },
  {
   "cell_type": "code",
   "execution_count": null,
   "metadata": {},
   "outputs": [],
   "source": [
    "facility_name = pml.machine.get_facility_name()\n",
    "FACILITY_CONFIG_FOLDER = Path(\"demo_generated\") / facility_name"
   ]
  },
  {
   "cell_type": "code",
   "execution_count": null,
   "metadata": {},
   "outputs": [],
   "source": [
    "machine_name = \"SR\"\n",
    "SR = pml.load_machine(machine_name, dirpath=FACILITY_CONFIG_FOLDER)\n",
    "\n",
    "# Note that the following messages shown when this cell is run in the previous\n",
    "# notebooks are gone because MLVL and MLVT definition files were created in\n",
    "# \"05_setup_mlvl_mlvt.ipynb\":\n",
    "#\n",
    "#   MLVL definitions have not been specified. No MLVL will be instantiated.\n",
    "#   MLVT definitions have not been specified. No MLVT will be instantiated."
   ]
  },
  {
   "cell_type": "code",
   "execution_count": null,
   "metadata": {},
   "outputs": [],
   "source": [
    "# Change the corrector strength to introduce orbit distortion (to avoid BPM\n",
    "# readings being all zero)\n",
    "mlvs = SR.get_all_mlvs()\n",
    "mlv = mlvs[\"C30_C1_x_I_SP\"]\n",
    "mlv.put(Q_(\"0.1 A\"))"
   ]
  },
  {
   "cell_type": "code",
   "execution_count": null,
   "metadata": {},
   "outputs": [],
   "source": [
    "# Print all available flow names for the `orbit.slow_acq` high-level\n",
    "# application (HLA)\n",
    "pml.hla.orbit.slow_acq.get_flow_names()"
   ]
  },
  {
   "cell_type": "code",
   "execution_count": null,
   "metadata": {},
   "outputs": [],
   "source": [
    "# Select the \"standalone\" flow.\n",
    "#\n",
    "# But this SHOULD result in an error message:\n",
    "#  TypeError: Machine default is requested, but it does not appear to be set up\n",
    "try:\n",
    "    standalone = pml.hla.orbit.slow_acq.get_flow(\"standalone\", SR)\n",
    "except Exception as e:\n",
    "    assert isinstance(\n",
    "        e, TypeError\n",
    "    ), f\"Expected TypeError, but got {type(e).__name__}\"\n",
    "    assert (\n",
    "        str(e)\n",
    "        == \"Machine default is requested, but it does not appear to be set up\"\n",
    "    )\n",
    "    print(\"Failed as expected!\")\n",
    "except:\n",
    "    raise"
   ]
  },
  {
   "cell_type": "code",
   "execution_count": null,
   "metadata": {},
   "outputs": [],
   "source": [
    "# We can temporarily avoid this error by:\n",
    "pml.hla.allow_machine_default_placeholder()\n",
    "\n",
    "standalone = pml.hla.orbit.slow_acq.get_flow(\"standalone\", SR)"
   ]
  },
  {
   "cell_type": "code",
   "execution_count": null,
   "metadata": {},
   "outputs": [],
   "source": [
    "# Print all the stage names for the flow\n",
    "standalone.get_stage_names()"
   ]
  },
  {
   "cell_type": "code",
   "execution_count": null,
   "metadata": {},
   "outputs": [],
   "source": [
    "# Get the parameters for the \"acquire\" stage\n",
    "params = standalone.get_params(\"acquire\")\n",
    "params"
   ]
  },
  {
   "cell_type": "code",
   "execution_count": null,
   "metadata": {},
   "outputs": [],
   "source": [
    "# Note that \"bpm_mlo\" is a `MachineDefault` object (i.e., a placeholder).\n",
    "# This HLA will NOT work if this parameter is not specified, which is the reason\n",
    "# for the earlier error message \"TypeError: Machine default is requested...\"\n",
    "list(params)"
   ]
  },
  {
   "cell_type": "code",
   "execution_count": null,
   "metadata": {},
   "outputs": [],
   "source": [
    "# Set this parameter to the \"BPM\" MLVT\n",
    "params.bpm_mlo = SR.get_mlvt(\"BPM\")\n",
    "params.bpm_mlo"
   ]
  },
  {
   "cell_type": "code",
   "execution_count": null,
   "metadata": {},
   "outputs": [],
   "source": [
    "# You can also change the default values for other params, if you want.\n",
    "#\n",
    "# Note bluesky/tiled for HLAs have not been implemented yet.\n",
    "params.n_meas = 6"
   ]
  },
  {
   "cell_type": "code",
   "execution_count": null,
   "metadata": {},
   "outputs": [],
   "source": [
    "# Run the \"standalone\" flow (i.e., run the \"acquire\" stage, followed\n",
    "# by the \"plot\" stage)\n",
    "standalone.run()"
   ]
  },
  {
   "cell_type": "code",
   "execution_count": null,
   "metadata": {},
   "outputs": [],
   "source": [
    "# Print the current default parameters for all HLAs, which should be empty,\n",
    "# except for the machine name \"SR\".\n",
    "pml.hla.get_hla_defaults()"
   ]
  },
  {
   "cell_type": "code",
   "execution_count": null,
   "metadata": {},
   "outputs": [],
   "source": [
    "# Update the default params, if you want to set the current params as the\n",
    "# default. This has been only saved in memory. If you stop the currently\n",
    "# running process, this change will be lost.\n",
    "stage = standalone.get_stage(\"acquire\")\n",
    "stage.update_machine_default_params(params)"
   ]
  },
  {
   "cell_type": "code",
   "execution_count": null,
   "metadata": {},
   "outputs": [],
   "source": [
    "# Now the HLA default dict contains the changes you applied\n",
    "pml.hla.get_hla_defaults()"
   ]
  },
  {
   "cell_type": "code",
   "execution_count": null,
   "metadata": {},
   "outputs": [],
   "source": [
    "# If you want the default param changes above to be persistent, save the changes\n",
    "# in the params object into the YAML file that specifies the default HLA parameters.\n",
    "hla_defaults_filepath = FACILITY_CONFIG_FOLDER / \"hla_defaults.yaml\"\n",
    "\n",
    "pml.hla.save_hla_defaults_to_file(hla_defaults_filepath)"
   ]
  },
  {
   "cell_type": "code",
   "execution_count": null,
   "metadata": {},
   "outputs": [],
   "source": [
    "# Now reload the machine data to wipe out the HLA default params in memory\n",
    "SR = pml.load_machine(machine_name, dirpath=FACILITY_CONFIG_FOLDER)\n",
    "\n",
    "pml.hla.get_hla_defaults()"
   ]
  },
  {
   "cell_type": "code",
   "execution_count": null,
   "metadata": {},
   "outputs": [],
   "source": [
    "# You can now recover the default params from the saved YAML file.\n",
    "pml.load_hla_defaults(hla_defaults_filepath)\n",
    "\n",
    "pml.hla.get_hla_defaults()"
   ]
  },
  {
   "cell_type": "code",
   "execution_count": null,
   "metadata": {},
   "outputs": [],
   "source": [
    "# Since the default params have been set, you no longer need to disable the\n",
    "# validation process with `pml.hla.allow_machine_default_placeholder()`\n",
    "# when you try to get the flow.\n",
    "standalone = pml.hla.orbit.slow_acq.get_flow(\"standalone\", SR)\n",
    "\n",
    "params = standalone.get_params(\"acquire\")\n",
    "list(params)"
   ]
  },
  {
   "cell_type": "code",
   "execution_count": null,
   "metadata": {},
   "outputs": [],
   "source": [
    "# However, trying to run this flow SHOULD FAIL.\n",
    "try:\n",
    "    standalone.run()\n",
    "except Exception as e:\n",
    "    assert isinstance(\n",
    "        e, AttributeError\n",
    "    ), f\"Expected AttributeError, but got {type(e).__name__}\"\n",
    "    assert str(e) == \"'MlvtName' object has no attribute 'wait_for_connection'\"\n",
    "    print(\"Failed as expected!\")\n",
    "except:\n",
    "    raise"
   ]
  },
  {
   "cell_type": "code",
   "execution_count": null,
   "metadata": {},
   "outputs": [],
   "source": [
    "# This error occurred because we disabled the validation process earlier with\n",
    "# `pml.hla.allow_machine_default_placeholder()`.\n",
    "# When getting the flow object, the default params are loaded. If the validation\n",
    "# process is not disabled, the loading converts the MLVT name saved in\n",
    "# the YAML file into an actual MLVT object, which is necessary to run. Thus,\n",
    "# to avoid the error, we need to re-enable the validation process:\n",
    "pml.hla.disallow_machine_default_placeholder()\n",
    "\n",
    "# Note that, if you didn't disable earlier, this enabling is not necessary.\n",
    "# This complication is a one-time process, as there is no HLA default params\n",
    "# are specified initially."
   ]
  },
  {
   "cell_type": "code",
   "execution_count": null,
   "metadata": {},
   "outputs": [],
   "source": [
    "# Repeat the steps above, and now you should get no error.\n",
    "standalone = pml.hla.orbit.slow_acq.get_flow(\"standalone\", SR)\n",
    "\n",
    "params = standalone.get_params(\"acquire\")\n",
    "\n",
    "standalone.run()\n",
    "# Note that the orbit is now all zero, because reloading the machine reset\n",
    "# the simulator back to the initial \"no kick\" state."
   ]
  },
  {
   "cell_type": "markdown",
   "metadata": {},
   "source": [
    "Summary: After the default HLA params are saved into the default YAML file, the following are the minimal lines required to run the standalone HLA:\n",
    "\n",
    "```\n",
    "SR = pml.load_machine(machine_name, dirpath=FACILITY_CONFIG_FOLDER)\n",
    "pml.load_hla_defaults(hla_defaults_filepath)\n",
    "standalone = pml.hla.orbit.slow_acq.get_flow(\"standalone\", SR)\n",
    "standalone.run()\n",
    "```\n",
    "\n",
    "If you want to adjust the params for each stage, retrieve them via \"get_params()\", and modify them before calling \"run()\"."
   ]
  },
  {
   "cell_type": "code",
   "execution_count": null,
   "metadata": {},
   "outputs": [],
   "source": [
    "# Now let us try a different flow \"library\"\n",
    "\n",
    "# Change the corrector strength to introduce orbit distortion (to avoid BPM\n",
    "# readings being all zero)\n",
    "mlvs = SR.get_all_mlvs()\n",
    "mlv = mlvs[\"C30_C1_x_I_SP\"]\n",
    "mlv.put(Q_(\"0.1 A\"))"
   ]
  },
  {
   "cell_type": "code",
   "execution_count": null,
   "metadata": {},
   "outputs": [],
   "source": [
    "orbit_hla_lib = pml.hla.orbit.slow_acq.get_flow(\"library\", SR)\n",
    "\n",
    "orbit_hla_lib.get_stage_names()"
   ]
  },
  {
   "cell_type": "code",
   "execution_count": null,
   "metadata": {},
   "outputs": [],
   "source": [
    "# Running the \"library\" flow will NOT generate a plot. Instead, it returns\n",
    "# orbit data that can be passed onto another stage of the orbit HLA or other\n",
    "# HLA's stage.\n",
    "orb_data = orbit_hla_lib.run()\n",
    "\n",
    "orb_data"
   ]
  },
  {
   "cell_type": "code",
   "execution_count": null,
   "metadata": {},
   "outputs": [],
   "source": [
    "# As an example, we can pass the orbit data onto the plot stage of this orbit\n",
    "# HLA to plot the measured orbit.\n",
    "plot_stage = pml.hla.orbit.slow_acq.plot.Stage(SR)\n",
    "plot_stage.take_output_from_prev_stage(orb_data)\n",
    "plot_stage.run()"
   ]
  }
 ],
 "metadata": {},
 "nbformat": 4,
 "nbformat_minor": 2
}

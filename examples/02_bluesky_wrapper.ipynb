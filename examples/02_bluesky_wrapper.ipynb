{
 "cells": [
  {
   "cell_type": "code",
   "execution_count": null,
   "metadata": {},
   "outputs": [],
   "source": [
    "from pathlib import Path\n",
    "import os"
   ]
  },
  {
   "cell_type": "code",
   "execution_count": null,
   "metadata": {},
   "outputs": [],
   "source": [
    "import numpy as np"
   ]
  },
  {
   "cell_type": "code",
   "execution_count": null,
   "metadata": {},
   "outputs": [],
   "source": [
    "# You can ignore about the `pydantic` deprecation warning (coming from `tiled`)\n",
    "import pamila as pml\n",
    "from pamila import Unit"
   ]
  },
  {
   "cell_type": "code",
   "execution_count": null,
   "metadata": {},
   "outputs": [],
   "source": [
    "# Activate the simulator mode (i.e., neither LIVE nor DT [Digital Twin])\n",
    "pml.go_offline()"
   ]
  },
  {
   "cell_type": "code",
   "execution_count": null,
   "metadata": {},
   "outputs": [],
   "source": [
    "# Imports related to bluesky/tiled\n",
    "\n",
    "from pamila import bluesky_wrapper, bsw\n",
    "assert bsw == bluesky_wrapper\n",
    "\n",
    "from pamila.tiled import get_client, TiledWriter # This `TiledWriter` is a modified version\n",
    "\n",
    "from bluesky.callbacks import LiveTable\n",
    "\n",
    "import tiled.utils\n",
    "assert tiled.utils.safe_json_dump.__name__ == \"_modified_safe_json_dump\""
   ]
  },
  {
   "cell_type": "code",
   "execution_count": null,
   "metadata": {},
   "outputs": [],
   "source": [
    "facility_name = pml.machine.get_facility_name()\n",
    "FACILITY_CONFIG_FOLDER = Path(facility_name)"
   ]
  },
  {
   "cell_type": "code",
   "execution_count": null,
   "metadata": {},
   "outputs": [],
   "source": [
    "machine_name = \"SR\"\n",
    "SR = pml.load_machine(machine_name, dirpath=FACILITY_CONFIG_FOLDER)"
   ]
  },
  {
   "cell_type": "code",
   "execution_count": null,
   "metadata": {},
   "outputs": [],
   "source": [
    "all_mlvs = SR.get_all_mlvs()\n",
    "\n",
    "for mlv in all_mlvs.values():\n",
    "    mlv.wait_for_connection()"
   ]
  },
  {
   "cell_type": "code",
   "execution_count": null,
   "metadata": {},
   "outputs": [],
   "source": [
    "use_Ampere = True\n",
    "# use_Ampere = False\n",
    "\n",
    "if use_Ampere:\n",
    "    cor_name_list = [\"C30_C1_x_I_SP\", \"C30_C2_x_I_SP\"]\n",
    "else:\n",
    "    cor_name_list = [\"C30_C1_x_angle_SP\", \"C30_C2_x_angle_SP\"]\n",
    "\n",
    "bpm_name_list = [\"C30_P1_x_RB\", \"C30_P1_y_RB\"]\n",
    "\n",
    "bpm_list = [all_mlvs[name] for name in bpm_name_list]\n",
    "cor_list = [all_mlvs[name] for name in cor_name_list]"
   ]
  },
  {
   "cell_type": "code",
   "execution_count": null,
   "metadata": {},
   "outputs": [],
   "source": [
    "if use_Ampere:\n",
    "    dI_start = -0.2\n",
    "    dI_stop = +0.2\n",
    "    dI_array = np.linspace(dI_start, dI_stop, 3)\n",
    "    dI_array *= Unit(\"A\")\n",
    "else:\n",
    "    dI_start = -4\n",
    "    dI_stop = +4\n",
    "    dI_array = np.linspace(dI_start, dI_stop, 3)\n",
    "    dI_array *= Unit(\"urad\")\n",
    "dI_array_1 = (\n",
    "    dI_array.tolist()\n",
    ")  # Must convert to a list due to a bug in TiledWriter metadata updating\n",
    "\n",
    "if use_Ampere:\n",
    "    dI_start = -0.3\n",
    "    dI_stop = +0.3\n",
    "    dI_array = np.linspace(dI_start, dI_stop, 3)\n",
    "    dI_array *= Unit(\"A\")\n",
    "else:\n",
    "    dI_start = -6\n",
    "    dI_stop = +6\n",
    "    dI_array = np.linspace(dI_start, dI_stop, 3)\n",
    "    dI_array *= Unit(\"urad\")\n",
    "dI_array_2 = (\n",
    "    dI_array.tolist()\n",
    ")  # Must convert to a list due to a bug in TiledWriter metadata updating\n",
    "\n",
    "assert len(dI_array_1) == len(dI_array_2)"
   ]
  },
  {
   "cell_type": "code",
   "execution_count": null,
   "metadata": {},
   "outputs": [],
   "source": [
    "case = \"A\"\n",
    "\n",
    "if case == \"A\":\n",
    "    set_mode = bsw.JumpSet()\n",
    "elif case == \"B\":\n",
    "    set_mode = bsw.RampSet(\n",
    "        num_steps=None,\n",
    "        interval=None,\n",
    "        current_val_signals=None,\n",
    "        wait_at_each_step=True,\n",
    "    )\n",
    "elif case == \"C\":\n",
    "    set_mode = bsw.RampSet(\n",
    "        num_steps=5, interval=4.0, current_val_signals=None, wait_at_each_step=True\n",
    "    )\n",
    "else:\n",
    "    raise ValueError"
   ]
  },
  {
   "cell_type": "markdown",
   "metadata": {},
   "source": [
    "To initialize a SQLite server file, first `cd` into a folder where\n",
    "you want to create the database file, and then run in a terminal:\n",
    "\n",
    "`(env) $ tiled catalog init catalog.db`\n",
    "\n",
    "To start the SQLite server, `cd` into the folder where the database file is,\n",
    "and then run:\n",
    "\n",
    "`(env) $ tiled catalog serve catalog.db -w data/ --api-key=secret`\n",
    "\n",
    "(This will create a \"data\" folder in `cwd`, if it does not exist.)\n",
    "\n",
    "Look for a line in the output of this command like this:\n",
    "\n",
    "`[-] INFO:     Uvicorn running on http://127.0.0.1:8000 (Press CTRL+C to quit)`\n",
    "\n",
    "If you encounter an error like the following instead: \n",
    "\n",
    "`[-] ERROR:    [Errno 98] error while attempting to bind on address ('127.0.0.1', 8000): address already in use`\n",
    "\n",
    "then change the port number manually to, e.g., 8001, by adding \"--port 8001\",\n",
    "to the `tiled` command above."
   ]
  },
  {
   "cell_type": "code",
   "execution_count": null,
   "metadata": {},
   "outputs": [],
   "source": [
    "# If you had to change the default port number of 8000, you must change\n",
    "# `_tiled_port` to the actual port number.\n",
    "_tiled_port = 8000\n",
    "os.environ[\"PAMILA_TILED_URI\"] = f\"http://localhost:{_tiled_port}\"\n",
    "os.environ[\"PAMILA_TILED_API_KEY\"] = \"secret\""
   ]
  },
  {
   "cell_type": "code",
   "execution_count": null,
   "metadata": {},
   "outputs": [],
   "source": [
    "# Make a connection to the `tiled` database\n",
    "client = get_client()\n",
    "tw = TiledWriter(client)"
   ]
  },
  {
   "cell_type": "code",
   "execution_count": null,
   "metadata": {},
   "outputs": [],
   "source": [
    "# MLVs that will be monitored by `LiveTable` during the bluesky scan\n",
    "sel_mlvs = bpm_list + cor_list\n",
    "sel_mlvs"
   ]
  },
  {
   "cell_type": "code",
   "execution_count": null,
   "metadata": {},
   "outputs": [],
   "source": [
    "# bluesky's `LiveTable` only accepts `ophyd` device objects, not MLVs.\n",
    "sel_odevs = [mlv.get_ophyd_device() for mlv in sel_mlvs]\n",
    "\n",
    "output = bsw.rel_put_then_get(\n",
    "    obj_list_to_get=bpm_list,\n",
    "    obj_list_to_put=cor_list,\n",
    "    vals_to_put=[dI_array_1, dI_array_2],\n",
    "    set_mode=set_mode,\n",
    "    extra_settle_time=2.0,\n",
    "    n_repeat=3,\n",
    "    wait_time_btw_read=0.2,\n",
    "    subs={\"all\": [tw, LiveTable(sel_odevs)]},\n",
    "    ret_raw=True,\n",
    "    stats_types=(\"mean\", \"std\", \"min\", \"max\"),\n",
    ")"
   ]
  },
  {
   "cell_type": "code",
   "execution_count": null,
   "metadata": {},
   "outputs": [],
   "source": [
    "list(output)"
   ]
  },
  {
   "cell_type": "code",
   "execution_count": null,
   "metadata": {},
   "outputs": [],
   "source": [
    "# `uid` for the experiment run saved in the `tiled` database\n",
    "output['uids']"
   ]
  },
  {
   "cell_type": "code",
   "execution_count": null,
   "metadata": {},
   "outputs": [],
   "source": [
    "output['metadata']"
   ]
  },
  {
   "cell_type": "code",
   "execution_count": null,
   "metadata": {},
   "outputs": [],
   "source": [
    "output['raw_data']"
   ]
  },
  {
   "cell_type": "code",
   "execution_count": null,
   "metadata": {},
   "outputs": [],
   "source": [
    "# THe unit strings for the columns of the `pandas` DataFrame \"output['raw_data']\"\n",
    "output['units']"
   ]
  },
  {
   "cell_type": "code",
   "execution_count": null,
   "metadata": {},
   "outputs": [],
   "source": [
    "list(output['stats'])"
   ]
  },
  {
   "cell_type": "code",
   "execution_count": null,
   "metadata": {},
   "outputs": [],
   "source": [
    "output['stats']['mean']"
   ]
  },
  {
   "cell_type": "code",
   "execution_count": null,
   "metadata": {},
   "outputs": [],
   "source": [
    "output['stats']['std']"
   ]
  }
 ],
 "metadata": {},
 "nbformat": 4,
 "nbformat_minor": 2
}

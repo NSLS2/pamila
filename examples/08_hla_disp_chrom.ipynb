{
 "cells": [
  {
   "cell_type": "markdown",
   "metadata": {},
   "source": [
    "## It is assumed that you have already run the previous notebook \"07_setup_hla_disp_chrom.ipynb\". If not, please run the notebook to have the default params for this HLA properly set up before you can run the HLA."
   ]
  },
  {
   "cell_type": "code",
   "execution_count": null,
   "metadata": {},
   "outputs": [],
   "source": [
    "from pathlib import Path"
   ]
  },
  {
   "cell_type": "code",
   "execution_count": null,
   "metadata": {},
   "outputs": [],
   "source": [
    "# You can ignore about the `pydantic` deprecation warning (coming from `tiled`)\n",
    "import pamila as pml\n",
    "from pamila import Q_"
   ]
  },
  {
   "cell_type": "code",
   "execution_count": null,
   "metadata": {},
   "outputs": [],
   "source": [
    "# Activate the simulator mode (i.e., neither LIVE nor DT [Digital Twin])\n",
    "pml.go_offline()"
   ]
  },
  {
   "cell_type": "code",
   "execution_count": null,
   "metadata": {},
   "outputs": [],
   "source": [
    "facility_name = pml.machine.get_facility_name()\n",
    "FACILITY_CONFIG_FOLDER = Path(facility_name)"
   ]
  },
  {
   "cell_type": "code",
   "execution_count": null,
   "metadata": {},
   "outputs": [],
   "source": [
    "machine_name = \"SR\"\n",
    "SR = pml.load_machine(machine_name, dirpath=FACILITY_CONFIG_FOLDER)"
   ]
  },
  {
   "cell_type": "code",
   "execution_count": null,
   "metadata": {},
   "outputs": [],
   "source": [
    "pml.load_hla_defaults(FACILITY_CONFIG_FOLDER / \"hla_defaults.yaml\")"
   ]
  },
  {
   "cell_type": "code",
   "execution_count": null,
   "metadata": {},
   "outputs": [],
   "source": [
    "# Print all available flow names for this HLA\n",
    "pml.hla.disp_chrom.get_flow_names()"
   ]
  },
  {
   "cell_type": "code",
   "execution_count": null,
   "metadata": {},
   "outputs": [],
   "source": [
    "# First get the \"standalone\" HLA flow\n",
    "standalone = pml.hla.disp_chrom.get_flow(\"standalone\", SR)"
   ]
  },
  {
   "cell_type": "code",
   "execution_count": null,
   "metadata": {},
   "outputs": [],
   "source": [
    "# Get the parameters for the \"acquire\" stage\n",
    "params = standalone.get_params(\"acquire\")\n",
    "params"
   ]
  },
  {
   "cell_type": "code",
   "execution_count": null,
   "metadata": {},
   "outputs": [],
   "source": [
    "list(params)"
   ]
  },
  {
   "cell_type": "code",
   "execution_count": null,
   "metadata": {},
   "outputs": [],
   "source": [
    "# Before running the standalone flow, you can change parameters\n",
    "params.n_freq_pts = 6"
   ]
  },
  {
   "cell_type": "code",
   "execution_count": null,
   "metadata": {},
   "outputs": [],
   "source": [
    "# \"orbit_meas\" is a flow for the `orbit.slow_acq` HLA. Print its stages.\n",
    "params.orbit_meas.get_stage_names()"
   ]
  },
  {
   "cell_type": "code",
   "execution_count": null,
   "metadata": {},
   "outputs": [],
   "source": [
    "# You can see the nested params for the \"acquire\" stage of \"orbit_meas\" flow\n",
    "orb_params = params.orbit_meas.get_params(\"acquire\")\n",
    "list(orb_params)"
   ]
  },
  {
   "cell_type": "code",
   "execution_count": null,
   "metadata": {},
   "outputs": [],
   "source": [
    "# Before running the standalone flow, you can also change the nested params\n",
    "orb_params.n_meas = 5"
   ]
  },
  {
   "cell_type": "code",
   "execution_count": null,
   "metadata": {},
   "outputs": [],
   "source": [
    "# You can see the nested params for the \"acquire\" stage of \"tune_meas\" flow\n",
    "tune_params = params.tune_meas.get_params(\"acquire\")\n",
    "list(tune_params)"
   ]
  },
  {
   "cell_type": "code",
   "execution_count": null,
   "metadata": {},
   "outputs": [],
   "source": [
    "# Before running the standalone flow, you can also change the nested params\n",
    "tune_params.n_meas = 4"
   ]
  },
  {
   "cell_type": "code",
   "execution_count": null,
   "metadata": {},
   "outputs": [],
   "source": [
    "# Finally, you can run the standalone flow with the modified params\n",
    "standalone.run()\n",
    "\n",
    "# Note the plot shows only chromaticity, not dispersion, which is to be\n",
    "# implemented in the future. Also the fitted coefficient values will be also\n",
    "# added in the plot."
   ]
  },
  {
   "cell_type": "code",
   "execution_count": null,
   "metadata": {},
   "outputs": [],
   "source": [
    "# Now instead of the \"standalone\" flow, we will test the \"library\" flow.\n",
    "library_flow = pml.hla.disp_chrom.get_flow(\"library\", SR)\n",
    "\n",
    "library_flow.get_stage_names()"
   ]
  },
  {
   "cell_type": "code",
   "execution_count": null,
   "metadata": {},
   "outputs": [],
   "source": [
    "# \"library\" and \"standalone\" shares the same default params for the `acquire`\n",
    "# stage that is common to both flows.\n",
    "params = library_flow.get_params(\"acquire\")\n",
    "list(params)"
   ]
  },
  {
   "cell_type": "code",
   "execution_count": null,
   "metadata": {},
   "outputs": [],
   "source": [
    "# Check the default params for the `postprocess` stage\n",
    "params = library_flow.get_params(\"postprocess\")\n",
    "list(params)"
   ]
  },
  {
   "cell_type": "code",
   "execution_count": null,
   "metadata": {},
   "outputs": [],
   "source": [
    "# Change the params, if so desired\n",
    "params.chrom_max_order = 3"
   ]
  },
  {
   "cell_type": "code",
   "execution_count": null,
   "metadata": {},
   "outputs": [],
   "source": [
    "# Running the \"library\" flow will NOT generate a plot. Instead, it returns\n",
    "# dispersion/chromaticity data that can be passed onto another stage of the\n",
    "# `disp_chrom` HLA or as part of other HLA's stage.\n",
    "disp_chrom_data = library_flow.run()\n",
    "\n",
    "disp_chrom_data"
   ]
  },
  {
   "cell_type": "code",
   "execution_count": null,
   "metadata": {},
   "outputs": [],
   "source": [
    "# Print out the linear chromaticity values.\n",
    "ksix = disp_chrom_data['chrom']['x'][-2]\n",
    "ksiy = disp_chrom_data['chrom']['y'][-2]\n",
    "print(f\"Measured linear chromaticity = ({ksix.m:+.2f}, {ksiy.m:+.2f})\")\n",
    "\n",
    "disp_chrom_data['chrom']"
   ]
  },
  {
   "cell_type": "code",
   "execution_count": null,
   "metadata": {},
   "outputs": [],
   "source": [
    "# As an example, we can pass the disp/chrom data onto the plot stage of this\n",
    "# HLA to plot the measured dispersion / chromaticity.\n",
    "plot_stage = pml.hla.disp_chrom.plot.Stage(SR)\n",
    "plot_stage.take_output_from_prev_stage(disp_chrom_data)"
   ]
  },
  {
   "cell_type": "code",
   "execution_count": null,
   "metadata": {},
   "outputs": [],
   "source": [
    "# Before actually run the `plot` stage, you can change its params.\n",
    "params = plot_stage.get_params()\n",
    "params.export_to_file = Path(\"test.pdf\")\n",
    "params.title = \"Test\""
   ]
  },
  {
   "cell_type": "code",
   "execution_count": null,
   "metadata": {},
   "outputs": [],
   "source": [
    "# Run the `plot` stage\n",
    "plot_stage.run()"
   ]
  },
  {
   "cell_type": "code",
   "execution_count": null,
   "metadata": {},
   "outputs": [],
   "source": [
    "# We can also use the `plot` flow\n",
    "plot_flow = pml.hla.disp_chrom.get_flow(\"plot\", SR)\n",
    "plot_flow.take_output_from_prev_stage(disp_chrom_data)"
   ]
  },
  {
   "cell_type": "code",
   "execution_count": null,
   "metadata": {},
   "outputs": [],
   "source": [
    "# This flow only contains the `plot` stage, so it is essentially the same as\n",
    "# running the `plot` stage as we did above.\n",
    "plot_flow.get_stage_names()"
   ]
  },
  {
   "cell_type": "code",
   "execution_count": null,
   "metadata": {},
   "outputs": [],
   "source": [
    "# Change the params and run the flow, which should produce exactly the same plot\n",
    "# as before.\n",
    "params = plot_flow.get_params(\"plot\")\n",
    "params.export_to_file = Path(\"test2.pdf\")\n",
    "params.title = \"Test\"\n",
    "\n",
    "plot_flow.run()"
   ]
  }
 ],
 "metadata": {
  "kernelspec": {
   "display_name": "pamila20241127",
   "language": "python",
   "name": "python3"
  },
  "language_info": {
   "codemirror_mode": {
    "name": "ipython",
    "version": 3
   },
   "file_extension": ".py",
   "mimetype": "text/x-python",
   "name": "python",
   "nbconvert_exporter": "python",
   "pygments_lexer": "ipython3"
  }
 },
 "nbformat": 4,
 "nbformat_minor": 2
}

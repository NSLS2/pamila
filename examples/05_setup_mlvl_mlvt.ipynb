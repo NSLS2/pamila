{
 "cells": [
  {
   "cell_type": "code",
   "execution_count": null,
   "metadata": {},
   "outputs": [],
   "source": [
    "from pathlib import Path\n",
    "import json"
   ]
  },
  {
   "cell_type": "code",
   "execution_count": null,
   "metadata": {},
   "outputs": [],
   "source": [
    "# You can ignore about the `pydantic` deprecation warning (coming from `tiled`)\n",
    "import pamila as pml\n",
    "from pamila import Q_\n",
    "from pamila.middle_layer import (\n",
    "    MiddleLayerVariableListRO,\n",
    "    MiddleLayerVariableListROSpec,\n",
    "    MiddleLayerVariableList,\n",
    "    MiddleLayerVariableListSpec,\n",
    "    MiddleLayerVariableTree,\n",
    "    MiddleLayerVariableTreeSpec,\n",
    ")"
   ]
  },
  {
   "cell_type": "code",
   "execution_count": null,
   "metadata": {},
   "outputs": [],
   "source": [
    "# Activate the simulator mode (i.e., neither LIVE nor DT [Digital Twin])\n",
    "pml.go_offline()"
   ]
  },
  {
   "cell_type": "code",
   "execution_count": null,
   "metadata": {},
   "outputs": [],
   "source": [
    "facility_name = pml.machine.get_facility_name()\n",
    "FACILITY_CONFIG_FOLDER = Path(facility_name)"
   ]
  },
  {
   "cell_type": "code",
   "execution_count": null,
   "metadata": {},
   "outputs": [],
   "source": [
    "machine_name = \"SR\"\n",
    "SR = pml.load_machine(machine_name, dirpath=FACILITY_CONFIG_FOLDER)"
   ]
  },
  {
   "cell_type": "code",
   "execution_count": null,
   "metadata": {},
   "outputs": [],
   "source": [
    "all_mlvs = SR.get_all_mlvs()"
   ]
  },
  {
   "cell_type": "code",
   "execution_count": null,
   "metadata": {},
   "outputs": [],
   "source": [
    "# Confirm that no MLVLs have been currently defined.\n",
    "# If not, call `SR.get_all_mlvls().clear()`.\n",
    "SR.get_all_mlvls()"
   ]
  },
  {
   "cell_type": "code",
   "execution_count": null,
   "metadata": {},
   "outputs": [],
   "source": [
    "# Confirm that no MLVTs have been currently defined.\n",
    "# If not, call `SR.get_all_mlvts().clear()`.\n",
    "SR.get_all_mlvts()"
   ]
  },
  {
   "cell_type": "markdown",
   "metadata": {},
   "source": [
    "# Define standard MLVLs"
   ]
  },
  {
   "cell_type": "code",
   "execution_count": null,
   "metadata": {},
   "outputs": [],
   "source": [
    "spec = MiddleLayerVariableListROSpec(\n",
    "    name=\"BPM_x\",\n",
    "    mlvs=[mlv for mlv_name, mlv in all_mlvs.items()\n",
    "          if (\"_P\" in mlv_name) and (\"_x_\" in mlv_name)]\n",
    ")\n",
    "mlvl_bpm_x = MiddleLayerVariableListRO(spec)\n",
    "mlvl_bpm_x.get_mlv_names()"
   ]
  },
  {
   "cell_type": "code",
   "execution_count": null,
   "metadata": {},
   "outputs": [],
   "source": [
    "spec = MiddleLayerVariableListROSpec(\n",
    "    name=\"BPM_y\",\n",
    "    mlvs=[mlv for mlv_name, mlv in all_mlvs.items()\n",
    "          if (\"_P\" in mlv_name) and (\"_y_\" in mlv_name)]\n",
    ")\n",
    "mlvl_bpm_y = MiddleLayerVariableListRO(spec)\n",
    "mlvl_bpm_y.get_mlv_names()"
   ]
  },
  {
   "cell_type": "code",
   "execution_count": null,
   "metadata": {},
   "outputs": [],
   "source": [
    "spec = MiddleLayerVariableListROSpec(\n",
    "    name=\"BPM_xy\",\n",
    "    mlvs=mlvl_bpm_x.get_all_mlvs() + mlvl_bpm_y.get_all_mlvs()\n",
    ")\n",
    "mlvl_bpm_xy = MiddleLayerVariableListRO(spec)\n",
    "mlvl_bpm_xy.get_mlv_names()"
   ]
  },
  {
   "cell_type": "code",
   "execution_count": null,
   "metadata": {},
   "outputs": [],
   "source": [
    "# All MLVL definitions for slow orbit correctors\n",
    "scor_Ls = {}\n",
    "\n",
    "# Setpoint MLVLs\n",
    "for repr in ['x_I', 'y_I', 'x_angle', 'y_angle']:\n",
    "    name = f\"scor_{repr}_SP\"\n",
    "    sel_mlv_list = [mlv for mlv_name, mlv in all_mlvs.items()\n",
    "           if \"_C\" in mlv_name and f\"_{repr}_\" in mlv_name and\n",
    "           mlv_name.endswith(\"_SP\")]\n",
    "    spec = MiddleLayerVariableListSpec(name=name, mlvs=sel_mlv_list)\n",
    "    scor_Ls[name] = MiddleLayerVariableList(spec)\n",
    "\n",
    "# Readback MLVLs\n",
    "for repr in ['x_I', 'y_I', 'x_angle', 'y_angle']:\n",
    "    name = f\"scor_{repr}_RB\"\n",
    "    sel_mlv_list = [mlv for mlv_name, mlv in all_mlvs.items()\n",
    "           if \"_C\" in mlv_name and f\"_{repr}_\" in mlv_name and\n",
    "           mlv_name.endswith(\"_RB\")]\n",
    "    spec = MiddleLayerVariableListROSpec(name=name, mlvs=sel_mlv_list)\n",
    "    scor_Ls[name] = MiddleLayerVariableListRO(spec)\n",
    "\n",
    "scor_Ls"
   ]
  },
  {
   "cell_type": "code",
   "execution_count": null,
   "metadata": {},
   "outputs": [],
   "source": [
    "spec = MiddleLayerVariableListROSpec(\n",
    "    name=\"Tune_x\",\n",
    "    mlvs=[SR.get_mlv(\"BxB_Tune_nux_RB\")]\n",
    ")\n",
    "mlvl_tune_x = MiddleLayerVariableListRO(spec)\n",
    "mlvl_tune_x.get_mlv_names()"
   ]
  },
  {
   "cell_type": "code",
   "execution_count": null,
   "metadata": {},
   "outputs": [],
   "source": [
    "spec = MiddleLayerVariableListROSpec(\n",
    "    name=\"Tune_y\",\n",
    "    mlvs=[SR.get_mlv(\"BxB_Tune_nuy_RB\")]\n",
    ")\n",
    "mlvl_tune_y = MiddleLayerVariableListRO(spec)\n",
    "mlvl_tune_y.get_mlv_names()"
   ]
  },
  {
   "cell_type": "code",
   "execution_count": null,
   "metadata": {},
   "outputs": [],
   "source": [
    "spec = MiddleLayerVariableListROSpec(\n",
    "    name=\"DCCT\",\n",
    "    mlvs=[SR.get_mlv(\"Beam_Current_I_RB\")]\n",
    ")\n",
    "mlvl_dcct = MiddleLayerVariableListRO(spec)\n",
    "mlvl_dcct.get_mlv_names()"
   ]
  },
  {
   "cell_type": "code",
   "execution_count": null,
   "metadata": {},
   "outputs": [],
   "source": [
    "SR.get_all_mlvls()"
   ]
  },
  {
   "cell_type": "markdown",
   "metadata": {},
   "source": [
    "# Define standard MLVTs"
   ]
  },
  {
   "cell_type": "code",
   "execution_count": null,
   "metadata": {},
   "outputs": [],
   "source": [
    "# BPM MLV Tree\n",
    "spec = MiddleLayerVariableTreeSpec(\n",
    "    name='BPM',\n",
    "    mlos={'x': mlvl_bpm_x, 'y': mlvl_bpm_y}\n",
    "    )\n",
    "mlvt_bpm = MiddleLayerVariableTree(spec)\n",
    "mlvt_bpm.get_mlvl_names()"
   ]
  },
  {
   "cell_type": "code",
   "execution_count": null,
   "metadata": {},
   "outputs": [],
   "source": [
    "# (Slow) Orbit Corrector MLV Tree\n",
    "scor_Ts = {}\n",
    "for repr in ['I', 'angle']:\n",
    "    for handle in ['SP', 'RB']:\n",
    "        name = f'scor_{repr}_{handle}'\n",
    "        spec = MiddleLayerVariableTreeSpec(\n",
    "            name=name, mlos={'x': scor_Ls[f'scor_x_{repr}_{handle}'],\n",
    "                             'y': scor_Ls[f'scor_y_{repr}_{handle}']},\n",
    "            )\n",
    "        scor_Ts[name] = MiddleLayerVariableTree(spec)\n",
    "\n",
    "scor_Ts"
   ]
  },
  {
   "cell_type": "code",
   "execution_count": null,
   "metadata": {},
   "outputs": [],
   "source": [
    "scor_Ts['scor_I_SP'].get()"
   ]
  },
  {
   "cell_type": "code",
   "execution_count": null,
   "metadata": {},
   "outputs": [],
   "source": [
    "scor_Ts['scor_I_RB'].get()"
   ]
  },
  {
   "cell_type": "code",
   "execution_count": null,
   "metadata": {},
   "outputs": [],
   "source": [
    "scor_Ts['scor_angle_SP'].get()"
   ]
  },
  {
   "cell_type": "code",
   "execution_count": null,
   "metadata": {},
   "outputs": [],
   "source": [
    "scor_Ts['scor_angle_RB'].get()"
   ]
  },
  {
   "cell_type": "code",
   "execution_count": null,
   "metadata": {},
   "outputs": [],
   "source": [
    "spec = MiddleLayerVariableTreeSpec(\n",
    "    name=\"Tunes\", mlos={'x': mlvl_tune_x, 'y': mlvl_tune_y})\n",
    "MiddleLayerVariableTree(spec)"
   ]
  },
  {
   "cell_type": "code",
   "execution_count": null,
   "metadata": {},
   "outputs": [],
   "source": [
    "SR.get_all_mlvts()"
   ]
  },
  {
   "cell_type": "markdown",
   "metadata": {},
   "source": [
    "# Save MLVL definitions"
   ]
  },
  {
   "cell_type": "code",
   "execution_count": null,
   "metadata": {},
   "outputs": [],
   "source": [
    "import yaml\n",
    "\n",
    "class CustomDumper(yaml.SafeDumper):\n",
    "    def represent_list(self, data):\n",
    "        # Force lists to be represented in flow style (inline `[]` style)\n",
    "        return self.represent_sequence(\"tag:yaml.org,2002:seq\", data, flow_style=True)\n",
    "\n",
    "# Add the custom list representation to the dumper\n",
    "CustomDumper.add_representer(list, CustomDumper.represent_list)"
   ]
  },
  {
   "cell_type": "code",
   "execution_count": null,
   "metadata": {},
   "outputs": [],
   "source": [
    "machine_folder = FACILITY_CONFIG_FOLDER / machine_name\n",
    "sel_config_folder = machine_folder / SR._conf.sel_config\n",
    "sel_config_folder"
   ]
  },
  {
   "cell_type": "code",
   "execution_count": null,
   "metadata": {},
   "outputs": [],
   "source": [
    "mlvl_defs = {}\n",
    "exclude_unset = True\n",
    "for mlvl in SR.get_all_mlvls().values():\n",
    "    model_d = mlvl.get_reconstruction_spec(exclude_unset=exclude_unset)\n",
    "\n",
    "    name = model_d.pop(\"name\")\n",
    "    class_name = model_d.pop(\"class\")\n",
    "    mlvl_defs[name] = {\"class_suffix\": class_name[len(\"MiddleLayerVariable\"):]}\n",
    "\n",
    "    temp_mlvs = json.loads(json.dumps(model_d['mlvs']))\n",
    "    model_d['mlvs'] = [_mlv_d['name'] for _mlv_d in temp_mlvs]\n",
    "    mlvl_defs[name].update(model_d)"
   ]
  },
  {
   "cell_type": "code",
   "execution_count": null,
   "metadata": {},
   "outputs": [],
   "source": [
    "mlvl_defs_for_file = {\n",
    "    \"facility\": facility_name,\n",
    "    \"machine\": machine_name,\n",
    "    \"mlvl_definitions\": mlvl_defs,\n",
    "}\n",
    "# ^ Another key \"simulator_config\" was defined in all the files saved in\n",
    "# \"00_steup_machine_config.ipynb\". However, this key is NOT included in this\n",
    "# dict, because each MLV contains that information.\n",
    "with open(sel_config_folder / \"mlvls.yaml\", \"w\") as f:\n",
    "    yaml.dump(\n",
    "        mlvl_defs_for_file,\n",
    "        f,\n",
    "        sort_keys=False,\n",
    "        default_flow_style=False,\n",
    "        width=70,\n",
    "        indent=2,\n",
    "        Dumper=CustomDumper,\n",
    "    )\n",
    "with open(sel_config_folder / \"mlvls.json\", \"w\") as f:\n",
    "    json.dump(mlvl_defs_for_file, f, indent=2)\n"
   ]
  },
  {
   "cell_type": "markdown",
   "metadata": {},
   "source": [
    "# Save MLVT definitions"
   ]
  },
  {
   "cell_type": "code",
   "execution_count": null,
   "metadata": {},
   "outputs": [],
   "source": [
    "mlvt_defs = {}\n",
    "exclude_unset = True\n",
    "for mlvt in SR.get_all_mlvts().values():\n",
    "    model_d = mlvt.get_reconstruction_spec(exclude_unset=exclude_unset)\n",
    "\n",
    "    name = model_d.pop(\"name\")\n",
    "    class_name = model_d.pop(\"class\")\n",
    "\n",
    "    temp_mlos = json.loads(json.dumps(model_d['mlos']))\n",
    "    for k, v in temp_mlos.items():\n",
    "        del v['machine_name']\n",
    "        model_d['mlos'][k] = v\n",
    "    mlvt_defs[name] = model_d"
   ]
  },
  {
   "cell_type": "code",
   "execution_count": null,
   "metadata": {},
   "outputs": [],
   "source": [
    "mlvt_defs_for_file = {\n",
    "    \"facility\": facility_name,\n",
    "    \"machine\": machine_name,\n",
    "    \"mlvt_definitions\": mlvt_defs,\n",
    "}\n",
    "# ^ Another key \"simulator_config\" was defined in all the files saved in\n",
    "# \"00_steup_machine_config.ipynb\". However, this key is NOT included in this\n",
    "# dict, because each MLV contains that information.\n",
    "with open(sel_config_folder / \"mlvts.yaml\", \"w\") as f:\n",
    "    yaml.dump(\n",
    "        mlvt_defs_for_file,\n",
    "        f,\n",
    "        sort_keys=False,\n",
    "        default_flow_style=False,\n",
    "        width=70,\n",
    "        indent=2,\n",
    "        Dumper=CustomDumper,\n",
    "    )\n",
    "with open(sel_config_folder / \"mlvts.json\", \"w\") as f:\n",
    "    json.dump(mlvt_defs_for_file, f, indent=2)\n"
   ]
  }
 ],
 "metadata": {
  "kernelspec": {
   "display_name": "pamila20241127",
   "language": "python",
   "name": "python3"
  },
  "language_info": {
   "codemirror_mode": {
    "name": "ipython",
    "version": 3
   },
   "file_extension": ".py",
   "mimetype": "text/x-python",
   "name": "python",
   "nbconvert_exporter": "python",
   "pygments_lexer": "ipython3"
  }
 },
 "nbformat": 4,
 "nbformat_minor": 2
}

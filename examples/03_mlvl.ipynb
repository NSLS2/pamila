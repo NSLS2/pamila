{
 "cells": [
  {
   "cell_type": "code",
   "execution_count": null,
   "metadata": {},
   "outputs": [],
   "source": [
    "from pathlib import Path"
   ]
  },
  {
   "cell_type": "code",
   "execution_count": null,
   "metadata": {},
   "outputs": [],
   "source": [
    "# You can ignore about the `pydantic` deprecation warning (coming from `tiled`)\n",
    "import pamila as pml\n",
    "from pamila import Q_\n",
    "from pamila.middle_layer import (\n",
    "    MiddleLayerVariableListRO,\n",
    "    MiddleLayerVariableListROSpec,\n",
    ")\n",
    "# \"RO\" stands for read-only"
   ]
  },
  {
   "cell_type": "code",
   "execution_count": null,
   "metadata": {},
   "outputs": [],
   "source": [
    "# Activate the simulator mode (i.e., neither LIVE nor DT [Digital Twin])\n",
    "pml.go_offline()"
   ]
  },
  {
   "cell_type": "code",
   "execution_count": null,
   "metadata": {},
   "outputs": [],
   "source": [
    "facility_name = pml.machine.get_facility_name()\n",
    "FACILITY_CONFIG_FOLDER = Path(\"demo_generated\") / facility_name"
   ]
  },
  {
   "cell_type": "code",
   "execution_count": null,
   "metadata": {},
   "outputs": [],
   "source": [
    "machine_name = \"SR\"\n",
    "SR = pml.load_machine(machine_name, dirpath=FACILITY_CONFIG_FOLDER)"
   ]
  },
  {
   "cell_type": "code",
   "execution_count": null,
   "metadata": {},
   "outputs": [],
   "source": [
    "# Collect all MLVs for BPMs\n",
    "bpm_mlvs = [mlv for mlv_name, mlv in SR.get_all_mlvs().items()\n",
    "            if \"_P\" in mlv_name]\n",
    "\n",
    "[mlv.name for mlv in bpm_mlvs]"
   ]
  },
  {
   "cell_type": "code",
   "execution_count": null,
   "metadata": {},
   "outputs": [],
   "source": [
    "# Try to create a read-only MLVL (MLV list) for the BPMs (both x and y planes)\n",
    "#\n",
    "# `exist_ok` should be set to `False` (default) if you want to avoid overwriting\n",
    "# an existing MLVL with the same name.\n",
    "spec = MiddleLayerVariableListROSpec(name=\"bpms_xy\", exist_ok=False, mlvs=bpm_mlvs)\n",
    "mlvl = MiddleLayerVariableListRO(spec)\n",
    "mlvl.wait_for_connection(all_modes=False)"
   ]
  },
  {
   "cell_type": "code",
   "execution_count": null,
   "metadata": {},
   "outputs": [],
   "source": [
    "# This should FAIL because \"bpms_xy\" has been already used for an existing MLVL\n",
    "try:\n",
    "    spec = MiddleLayerVariableListROSpec(\n",
    "        name=\"bpms_xy\", exist_ok=False, mlvs=bpm_mlvs\n",
    "    )\n",
    "    duplicate_mlvl = MiddleLayerVariableListRO(spec)\n",
    "except Exception as e:\n",
    "    assert isinstance(\n",
    "        e, NameError\n",
    "    ), f\"Expected NameError, but got {type(e).__name__}\"\n",
    "    assert str(e) == \"MiddleLayerVariableListRO name `bpms_xy` is already defined\"\n",
    "    print(\"Failed as expected!\")\n",
    "except:\n",
    "    raise"
   ]
  },
  {
   "cell_type": "code",
   "execution_count": null,
   "metadata": {},
   "outputs": [],
   "source": [
    "# This should NOT fail. This new MLVL definition will override.\n",
    "spec = MiddleLayerVariableListROSpec(name=\"bpms_xy\", exist_ok=True, mlvs=bpm_mlvs)\n",
    "duplicate_mlvl = MiddleLayerVariableListRO(spec)"
   ]
  },
  {
   "cell_type": "code",
   "execution_count": null,
   "metadata": {},
   "outputs": [],
   "source": [
    "# MLVL objects are serializable.\n",
    "import pickle\n",
    "pickle.loads(pickle.dumps(mlvl))"
   ]
  },
  {
   "cell_type": "code",
   "execution_count": null,
   "metadata": {},
   "outputs": [],
   "source": [
    "# Whenever a new MLVL object is created, it will be registered to the machine\n",
    "# such that it becomes searchable by the name.\n",
    "SR.get_all_mlvls()"
   ]
  },
  {
   "cell_type": "code",
   "execution_count": null,
   "metadata": {},
   "outputs": [],
   "source": [
    "mlv = SR.get_all_mlvs()[\"C30_C1_x_I_SP\"]\n",
    "\n",
    "# Change the corrector strength to introduce orbit distortion (to avoid BPM\n",
    "# readings being all zero)\n",
    "mlv.put(Q_(\"0.1 A\"))"
   ]
  },
  {
   "cell_type": "code",
   "execution_count": null,
   "metadata": {},
   "outputs": [],
   "source": [
    "# Since Q_ (pint's quantity object) is an iterable object, each MLV returns a\n",
    "# non-scalar value. By default, the `get` method of MLVL will faltten all the\n",
    "# Q_ objects.\n",
    "bpm_readings_flat = mlvl.get()\n",
    "bpm_readings_flat"
   ]
  },
  {
   "cell_type": "code",
   "execution_count": null,
   "metadata": {},
   "outputs": [],
   "source": [
    "# \"get\" can also return a list of Q_'s\n",
    "bpm_readings_non_flat = mlvl.get(return_flat=False)\n",
    "bpm_readings_non_flat"
   ]
  },
  {
   "cell_type": "code",
   "execution_count": null,
   "metadata": {},
   "outputs": [],
   "source": [
    "# An individual MLV in the MLVL can be accessed like a list\n",
    "mlvl[0]"
   ]
  },
  {
   "cell_type": "code",
   "execution_count": null,
   "metadata": {},
   "outputs": [],
   "source": [
    "mlvl[0].get()"
   ]
  },
  {
   "cell_type": "code",
   "execution_count": null,
   "metadata": {},
   "outputs": [],
   "source": [
    "# The \"read\" method is also implemented for MLVL\n",
    "read_data = mlvl.read()\n",
    "read_data"
   ]
  },
  {
   "cell_type": "code",
   "execution_count": null,
   "metadata": {},
   "outputs": [],
   "source": [
    "# The method that returns the number of MLVs included in this MLVL\n",
    "mlvl.get_all_mlv_count()"
   ]
  },
  {
   "cell_type": "code",
   "execution_count": null,
   "metadata": {},
   "outputs": [],
   "source": [
    "# Check which MLVs in this MLVL are currently enabled\n",
    "[_mlv.name for _mlv in mlvl.get_enabled_mlvs()]"
   ]
  },
  {
   "cell_type": "code",
   "execution_count": null,
   "metadata": {},
   "outputs": [],
   "source": [
    "# Show all MLVs included in this MLVL (i.e., including disabled ones)\n",
    "[_mlv.name for _mlv in mlvl.get_all_mlvs()]"
   ]
  },
  {
   "cell_type": "code",
   "execution_count": null,
   "metadata": {},
   "outputs": [],
   "source": [
    "# All 12 values are returned by the \"get\" method\n",
    "current_vals = mlvl.get()\n",
    "print(f\"{len(current_vals) = }\")\n",
    "current_vals"
   ]
  },
  {
   "cell_type": "code",
   "execution_count": null,
   "metadata": {},
   "outputs": [],
   "source": [
    "enabled_list = mlvl.get_enabled_status()\n",
    "enabled_list"
   ]
  },
  {
   "cell_type": "code",
   "execution_count": null,
   "metadata": {},
   "outputs": [],
   "source": [
    "# Disable the second MLV (but not yet applied)\n",
    "enabled_list[1] = False\n",
    "enabled_list"
   ]
  },
  {
   "cell_type": "code",
   "execution_count": null,
   "metadata": {},
   "outputs": [],
   "source": [
    "# Actually apply the enabled state change\n",
    "mlvl.put_enabled_status(enabled_list)"
   ]
  },
  {
   "cell_type": "code",
   "execution_count": null,
   "metadata": {},
   "outputs": [],
   "source": [
    "# Confirm the enabled state change has been applied\n",
    "mlvl.get_enabled_status()"
   ]
  },
  {
   "cell_type": "code",
   "execution_count": null,
   "metadata": {},
   "outputs": [],
   "source": [
    "# Confirm the MLV \"C30_P1_y_RB\" is now excluded\n",
    "[_mlv.name for _mlv in mlvl.get_enabled_mlvs()]"
   ]
  },
  {
   "cell_type": "code",
   "execution_count": null,
   "metadata": {},
   "outputs": [],
   "source": [
    "# \"C30P1_y_RB\" is still included in the output of \"get_all_mlvs()\"\n",
    "[_mlv.name for _mlv in mlvl.get_all_mlvs()]"
   ]
  },
  {
   "cell_type": "code",
   "execution_count": null,
   "metadata": {},
   "outputs": [],
   "source": [
    "# The \"get_mlv_names\" method only returns the names of the enabled MLVs.\n",
    "mlvl.get_mlv_names()"
   ]
  },
  {
   "cell_type": "code",
   "execution_count": null,
   "metadata": {},
   "outputs": [],
   "source": [
    "# Now only 11 values are returned by \"get\"\n",
    "current_vals = mlvl.get()\n",
    "print(f\"{len(current_vals) = }\")\n",
    "current_vals"
   ]
  },
  {
   "cell_type": "code",
   "execution_count": null,
   "metadata": {},
   "outputs": [],
   "source": []
  },
  {
   "cell_type": "code",
   "execution_count": null,
   "metadata": {},
   "outputs": [],
   "source": [
    "# This should FAIL with RuntimeError because we have not specified\n",
    "# \"enabled status\" MLVL.\n",
    "# An example to specify this MLVL is to be written in the near future.\n",
    "try:\n",
    "    mlvl.update_status_mlvl()\n",
    "except Exception as e:\n",
    "    assert isinstance(\n",
    "        e, RuntimeError\n",
    "    ), f\"Expected RuntimeError, but got {type(e).__name__}\"\n",
    "    assert str(e) == \"Status MLV list has not been specified\"\n",
    "    print(\"Failed as expected!\")\n",
    "except:\n",
    "    raise"
   ]
  }
 ],
 "metadata": {},
 "nbformat": 4,
 "nbformat_minor": 2
}

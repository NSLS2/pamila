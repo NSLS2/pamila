{
 "cells": [
  {
   "cell_type": "code",
   "execution_count": null,
   "metadata": {},
   "outputs": [],
   "source": [
    "from pathlib import Path\n",
    "import time"
   ]
  },
  {
   "cell_type": "code",
   "execution_count": null,
   "metadata": {},
   "outputs": [],
   "source": [
    "# You can ignore about the `pydantic` deprecation warning (coming from `tiled`)\n",
    "import pamila as pml\n",
    "from pamila import Q_\n",
    "from pamila.middle_layer import (\n",
    "    MiddleLayerVariableList,\n",
    "    MiddleLayerVariableListSpec,\n",
    "    MiddleLayerVariableListRO,\n",
    "    MiddleLayerVariableListROSpec,\n",
    "    MiddleLayerVariableTree,\n",
    "    MiddleLayerVariableTreeSpec\n",
    ")"
   ]
  },
  {
   "cell_type": "code",
   "execution_count": null,
   "metadata": {},
   "outputs": [],
   "source": [
    "# Activate the simulator mode (i.e., neither LIVE nor DT [Digital Twin])\n",
    "pml.go_offline()"
   ]
  },
  {
   "cell_type": "code",
   "execution_count": null,
   "metadata": {},
   "outputs": [],
   "source": [
    "facility_name = pml.machine.get_facility_name()\n",
    "FACILITY_CONFIG_FOLDER = Path(facility_name)"
   ]
  },
  {
   "cell_type": "code",
   "execution_count": null,
   "metadata": {},
   "outputs": [],
   "source": [
    "machine_name = \"SR\"\n",
    "SR = pml.load_machine(machine_name, dirpath=FACILITY_CONFIG_FOLDER)"
   ]
  },
  {
   "cell_type": "code",
   "execution_count": null,
   "metadata": {},
   "outputs": [],
   "source": [
    "all_mlvs = SR.get_all_mlvs()"
   ]
  },
  {
   "cell_type": "code",
   "execution_count": null,
   "metadata": {},
   "outputs": [],
   "source": [
    "# MLVT (MLV tree) requires MLVLs (not MLVs). So, we will first define MLVLs.\n",
    "\n",
    "# Define the MLVL \"scors_x\" for horizontal slow orbit corrector RB MLVs (in\n",
    "# \"x_angle\" repr.)\n",
    "spec = MiddleLayerVariableListROSpec(\n",
    "    name=\"scors_x\",\n",
    "    mlvs=[mlv for mlv_name, mlv in all_mlvs.items()\n",
    "        if \"_C\" in mlv_name and \"_x_angle_\" in mlv_name and\n",
    "        mlv_name.endswith(\"_RB\")])\n",
    "mlvl_scor_x = MiddleLayerVariableListRO(spec)\n",
    "mlvl_scor_x.get_mlv_names()"
   ]
  },
  {
   "cell_type": "code",
   "execution_count": null,
   "metadata": {},
   "outputs": [],
   "source": [
    "mlvl_scor_x.get()"
   ]
  },
  {
   "cell_type": "code",
   "execution_count": null,
   "metadata": {},
   "outputs": [],
   "source": [
    "# Define the MLVL \"scors_y\" for vertical slow orbit corrector RB MLVs (in\n",
    "# \"y_I\" repr.)\n",
    "spec = MiddleLayerVariableListROSpec(\n",
    "    name=\"scors_y\",\n",
    "    mlvs=[mlv for mlv_name, mlv in all_mlvs.items()\n",
    "         if \"_C\" in mlv_name and \"_y_I_\" in mlv_name and\n",
    "         mlv_name.endswith(\"_RB\")],\n",
    "    )\n",
    "mlvl_scor_y = MiddleLayerVariableListRO(spec)\n",
    "mlvl_scor_y.get_mlv_names()"
   ]
  },
  {
   "cell_type": "code",
   "execution_count": null,
   "metadata": {},
   "outputs": [],
   "source": [
    "mlvl_scor_y.get()"
   ]
  },
  {
   "cell_type": "code",
   "execution_count": null,
   "metadata": {},
   "outputs": [],
   "source": [
    "spec = MiddleLayerVariableListROSpec(\n",
    "    name='bpms_x',\n",
    "    mlvs=[mlv for mlv_name, mlv in all_mlvs.items()\n",
    "            if \"_P\" in mlv_name and \"_x_\" in mlv_name])\n",
    "mlvl_bpm_x = MiddleLayerVariableListRO(spec)\n",
    "mlvl_bpm_x.get_mlv_names()"
   ]
  },
  {
   "cell_type": "code",
   "execution_count": null,
   "metadata": {},
   "outputs": [],
   "source": [
    "spec = MiddleLayerVariableListROSpec(\n",
    "        name=\"bpms_y\",\n",
    "        mlvs=[mlv for mlv_name, mlv in all_mlvs.items()\n",
    "             if \"_P\" in mlv_name and \"_y_\" in mlv_name]\n",
    "    )\n",
    "mlvl_bpm_y = MiddleLayerVariableListRO(spec)\n",
    "mlvl_bpm_y.get_mlv_names()"
   ]
  },
  {
   "cell_type": "code",
   "execution_count": null,
   "metadata": {},
   "outputs": [],
   "source": [
    "# Define the MLVL \"QH1_K1_K1L\" for the QH1 quadrupole RB MLVs (in\n",
    "# \"K1\" and \"K1L\" reprs.)\n",
    "spec = MiddleLayerVariableListROSpec(\n",
    "    name=\"QH1_K1_K1L\",\n",
    "    mlvs=[mlv for mlv_name, mlv in all_mlvs.items()\n",
    "        if \"QH1\" in mlv_name and\n",
    "        (\"_K1_\" in mlv_name or \"_K1L_\" in mlv_name) and\n",
    "        mlv_name.endswith(\"_RB\")],\n",
    "    )\n",
    "mlvl_QH1_K1_K1L = MiddleLayerVariableListRO(spec)\n",
    "mlvl_QH1_K1_K1L.get_mlv_names()"
   ]
  },
  {
   "cell_type": "code",
   "execution_count": null,
   "metadata": {},
   "outputs": [],
   "source": [
    "mlvl_QH1_K1_K1L.get()"
   ]
  },
  {
   "cell_type": "code",
   "execution_count": null,
   "metadata": {},
   "outputs": [],
   "source": [
    "SR.get_all_mlvls()"
   ]
  },
  {
   "cell_type": "code",
   "execution_count": null,
   "metadata": {},
   "outputs": [],
   "source": [
    "# Define an MLVT (MLV Tree)\n",
    "spec = MiddleLayerVariableTreeSpec(name='QH1', mlos={'K1_and_K1L': mlvl_QH1_K1_K1L})\n",
    "mlvt_QH1_K1_K1L_RB = MiddleLayerVariableTree(spec)"
   ]
  },
  {
   "cell_type": "code",
   "execution_count": null,
   "metadata": {},
   "outputs": [],
   "source": [
    "mlvt_QH1_K1_K1L_RB.get_mlvl_names()"
   ]
  },
  {
   "cell_type": "code",
   "execution_count": null,
   "metadata": {},
   "outputs": [],
   "source": [
    "# You can also create nested MLVTs like this:\n",
    "spec = MiddleLayerVariableTreeSpec(\n",
    "    name='SCOR_and_QH1',\n",
    "    mlos={'x': mlvl_scor_x, 'y': mlvl_scor_y, 'QH1': mlvt_QH1_K1_K1L_RB})\n",
    "mlvt_scor_QH1 = MiddleLayerVariableTree(spec)\n",
    "\n",
    "spec = MiddleLayerVariableTreeSpec(\n",
    "    name='BPM_and_SCOR_and_QH1',\n",
    "    mlos={'bpm_x': mlvl_bpm_x, 'bpm_y': mlvl_bpm_y,\n",
    "          'scor_and_QH1': mlvt_scor_QH1})\n",
    "mlvt_RB = MiddleLayerVariableTree(spec)"
   ]
  },
  {
   "cell_type": "code",
   "execution_count": null,
   "metadata": {},
   "outputs": [],
   "source": [
    "# MLVT's \"get_mlvl_names\" method returns a flat anme list of all MLVLs.\n",
    "mlvt_RB.get_mlvl_names()"
   ]
  },
  {
   "cell_type": "code",
   "execution_count": null,
   "metadata": {},
   "outputs": [],
   "source": [
    "# MLVT's \"get_enabled_mlvs\" method returns a flat list of all enabled MLVs.\n",
    "[_mlv.name for _mlv in mlvt_RB.get_enabled_mlvs()]"
   ]
  },
  {
   "cell_type": "code",
   "execution_count": null,
   "metadata": {},
   "outputs": [],
   "source": [
    "# MLVT's \"get\" method retains the nested structure\n",
    "mlvt_RB.get()"
   ]
  },
  {
   "cell_type": "code",
   "execution_count": null,
   "metadata": {},
   "outputs": [],
   "source": [
    "# MLVT's \"read\" method does NOT have the nested structure. Instead, it\n",
    "# obtains the flat data for all the underlying pamila signal objects.\n",
    "mlvt_RB.read()"
   ]
  },
  {
   "cell_type": "code",
   "execution_count": null,
   "metadata": {},
   "outputs": [],
   "source": [
    "# Until now, only read-only MLVLs were used to define MLVTs, but\n",
    "# MLVTs can take writable MLVLs as well.\n",
    "spec = MiddleLayerVariableListSpec(\n",
    "    name=\"scors_x_SP\",\n",
    "    mlvs=[mlv for mlv_name, mlv in all_mlvs.items()\n",
    "                  if \"_C\" in mlv_name and \"_x_angle_\" in mlv_name and\n",
    "                  mlv_name.endswith(\"_SP\")],\n",
    ")\n",
    "mlvl_scor_x_SP = MiddleLayerVariableList(spec)\n",
    "\n",
    "spec = MiddleLayerVariableListSpec(\n",
    "    name=\"scors_y_SP\",\n",
    "    mlvs=[mlv for mlv_name, mlv in all_mlvs.items()\n",
    "                  if \"_C\" in mlv_name and \"_y_I_\" in mlv_name and\n",
    "                  mlv_name.endswith(\"_SP\")],\n",
    ")\n",
    "mlvl_scor_y_SP = MiddleLayerVariableList(spec)\n",
    "\n",
    "spec = MiddleLayerVariableTreeSpec(\n",
    "    name='scor', mlos={'x': mlvl_scor_x_SP, 'y': mlvl_scor_y_SP}\n",
    ")\n",
    "mlvt_scor_SP = MiddleLayerVariableTree(spec)\n",
    "\n",
    "spec = MiddleLayerVariableListSpec(\n",
    "    name=\"QH1_K1_SP\",\n",
    "    mlvs=[mlv for mlv_name, mlv in all_mlvs.items()\n",
    "                  if \"QH1\" in mlv_name and\n",
    "                  \"_K1_\" in mlv_name and\n",
    "                  mlv_name.endswith(\"_SP\")],\n",
    ")\n",
    "mlvl_QH1_K1_SP = MiddleLayerVariableList(spec)\n",
    "\n",
    "spec = MiddleLayerVariableTreeSpec(\n",
    "    name='scor_xy_and_QH1_K1_SP',\n",
    "    mlos={'scor': mlvt_scor_SP, 'QH1_K1': mlvl_QH1_K1_SP}\n",
    ")\n",
    "mlvt_SP = MiddleLayerVariableTree(spec)\n",
    "\n",
    "mlvt_SP.wait_for_connection(all_modes=False)"
   ]
  },
  {
   "cell_type": "code",
   "execution_count": null,
   "metadata": {},
   "outputs": [],
   "source": [
    "cur_SP_val_d = mlvt_SP.get()\n",
    "RB_before_put = mlvt_RB.get()\n",
    "\n",
    "cur_SP_val_d"
   ]
  },
  {
   "cell_type": "code",
   "execution_count": null,
   "metadata": {},
   "outputs": [],
   "source": [
    "# Note that you can partially modify the setpoints of MLVT.\n",
    "# Here, the vertical orbit corrector has been removed to demonstrate this.\n",
    "del cur_SP_val_d['scor']['y']\n",
    "cur_SP_val_d"
   ]
  },
  {
   "cell_type": "code",
   "execution_count": null,
   "metadata": {},
   "outputs": [],
   "source": [
    "# Change the orbit corrector & quad slightly\n",
    "cur_SP_val_d['scor']['x'] += Q_(\"5 urad\")\n",
    "cur_SP_val_d['QH1_K1'] -= Q_(\"1e-3 m^{-2}\")\n",
    "mlvt_SP.put(cur_SP_val_d)"
   ]
  },
  {
   "cell_type": "code",
   "execution_count": null,
   "metadata": {},
   "outputs": [],
   "source": [
    "# Check the adjustments took place\n",
    "new_SP_val_d = mlvt_SP.get()\n",
    "RB_after_put = mlvt_RB.get()\n",
    "\n",
    "new_SP_val_d"
   ]
  },
  {
   "cell_type": "code",
   "execution_count": null,
   "metadata": {},
   "outputs": [],
   "source": [
    "# Revert to the original\n",
    "cur_SP_val_d['scor']['x'] -= Q_(\"5 urad\")\n",
    "cur_SP_val_d['QH1_K1'] += Q_(\"1e-3 m^{-2}\")\n",
    "mlvt_SP.put(cur_SP_val_d)"
   ]
  },
  {
   "cell_type": "code",
   "execution_count": null,
   "metadata": {},
   "outputs": [],
   "source": [
    "# Check the adjustments took place\n",
    "restored_val_d = mlvt_SP.get()\n",
    "RB_after_restore = mlvt_RB.get()"
   ]
  },
  {
   "cell_type": "code",
   "execution_count": null,
   "metadata": {},
   "outputs": [],
   "source": [
    "RB_before_put"
   ]
  },
  {
   "cell_type": "code",
   "execution_count": null,
   "metadata": {},
   "outputs": [],
   "source": [
    "RB_after_put"
   ]
  },
  {
   "cell_type": "code",
   "execution_count": null,
   "metadata": {},
   "outputs": [],
   "source": [
    "RB_after_restore"
   ]
  },
  {
   "cell_type": "code",
   "execution_count": null,
   "metadata": {},
   "outputs": [],
   "source": [
    "# The \"set\" method returns device status objects, but does not wait\n",
    "# for the status change.\n",
    "mlvt_SP.set(new_SP_val_d)"
   ]
  },
  {
   "cell_type": "code",
   "execution_count": null,
   "metadata": {},
   "outputs": [],
   "source": [
    "# The \"set_and_wait\" method will change the setpoints and then wait\n",
    "# for the status objects to become all \"done\".\n",
    "t0 = time.perf_counter()\n",
    "mlvt_SP.set_and_wait(cur_SP_val_d)\n",
    "print(f\"set_and_wait took {time.perf_counter()-t0:.3f} [s]\")"
   ]
  },
  {
   "cell_type": "code",
   "execution_count": null,
   "metadata": {},
   "outputs": [],
   "source": [
    "# MLVT objects are serializable.\n",
    "import pickle\n",
    "pickle.loads(pickle.dumps(mlvt_RB))\n",
    "pickle.loads(pickle.dumps(mlvt_SP))"
   ]
  }
 ],
 "metadata": {},
 "nbformat": 4,
 "nbformat_minor": 2
}
